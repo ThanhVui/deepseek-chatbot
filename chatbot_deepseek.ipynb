{
  "nbformat": 4,
  "nbformat_minor": 0,
  "metadata": {
    "colab": {
      "provenance": []
    },
    "kernelspec": {
      "name": "python3",
      "display_name": "Python 3"
    },
    "language_info": {
      "name": "python"
    }
  },
  "cells": [
    {
      "cell_type": "code",
      "execution_count": null,
      "metadata": {
        "id": "qCQYR3vYHv4o"
      },
      "outputs": [],
      "source": [
        "!pip install requests"
      ]
    },
    {
      "cell_type": "code",
      "source": [
        "import requests\n",
        "\n",
        "API_KEY = ''\n",
        "API_URL = 'https://api.deepseek.com/chat/completions'"
      ],
      "metadata": {
        "id": "Hp0vLVGqIZev"
      },
      "execution_count": null,
      "outputs": []
    },
    {
      "cell_type": "code",
      "source": [
        "def call_deepseek_api(prompt):\n",
        "  headers = {\n",
        "      'Authorization': f'Bearer {API_KEY}',\n",
        "      'Content-Type': 'application/json'\n",
        "  }\n",
        "\n",
        "  data = {\n",
        "      'model': 'deepseek-chat',\n",
        "      'messages': [{'role': 'user', 'content': prompt}],\n",
        "      'max_tokens': 150\n",
        "  }\n",
        "\n",
        "  response = requests.post(API_URL, headers=headers, json=data)\n",
        "\n",
        "  if response.status_code == 200:\n",
        "    return response.json()['choices'][0]['message']['content']\n",
        "  else:\n",
        "    print(f\"Error: {response.status_code}, {response.text}\")\n",
        "    return None"
      ],
      "metadata": {
        "id": "pk1vhLynI0Z2"
      },
      "execution_count": null,
      "outputs": []
    },
    {
      "cell_type": "code",
      "source": [
        "def chatbot():\n",
        "  print(\"Welcome to the DeepSeek Chatbot! Type 'exit' to end the conversation.\")\n",
        "  while True:\n",
        "    user_input = input(\"You: \")\n",
        "    if user_input.lower() == 'exit':\n",
        "      print(\"DeepSeek Chatbot: Goodbye!\")\n",
        "      break\n",
        "\n",
        "    response = call_deepseek_api(user_input)\n",
        "    if response:\n",
        "      print(f\"DeepSeek Chatbot: {response}\")"
      ],
      "metadata": {
        "id": "za8CvxOuJtvf"
      },
      "execution_count": null,
      "outputs": []
    },
    {
      "cell_type": "code",
      "source": [
        "if __name__ == \"__main__\":\n",
        "  chatbot()"
      ],
      "metadata": {
        "id": "2CPwLWyTJ-Ce"
      },
      "execution_count": null,
      "outputs": []
    }
  ]
}